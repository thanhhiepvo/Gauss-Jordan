{
 "cells": [
  {
   "cell_type": "markdown",
   "id": "d4f90712",
   "metadata": {},
   "source": [
    "### Fullname: Võ Thanh Hiệp\n",
    "### Student ID: 21127275\n",
    "### Class: 21CLC03"
   ]
  },
  {
   "cell_type": "code",
   "execution_count": 2,
   "id": "d71b92a9",
   "metadata": {},
   "outputs": [],
   "source": [
    "def printMatrix(Matrix):\n",
    "    nRow = len(Matrix)\n",
    "    print('[', end=\"\")\n",
    "    for i in range(nRow - 1):\n",
    "        print(Matrix[i])\n",
    "    print(Matrix[nRow - 1], end=\"\")\n",
    "    print(']')"
   ]
  },
  {
   "cell_type": "code",
   "execution_count": 3,
   "id": "f095e43f",
   "metadata": {},
   "outputs": [],
   "source": [
    "def copyMatrix(Matrix):\n",
    "    result = []\n",
    "    nRow = len(Matrix)\n",
    "    nColumn = len(Matrix[0])\n",
    "    \n",
    "    for i in range(nRow):\n",
    "        row = []\n",
    "        for j in range(nColumn):\n",
    "            row.append(Matrix[i][j])\n",
    "        result.append(row)\n",
    "            \n",
    "    return result"
   ]
  },
  {
   "cell_type": "code",
   "execution_count": 4,
   "id": "561e84c3",
   "metadata": {},
   "outputs": [],
   "source": [
    "\"\"\"\n",
    "When the lead element is found out. Of course, it values will be 1. In the column includes this cell, \n",
    "make all cells above and below it to 0.\n",
    "\"\"\"\n",
    "\n",
    "def clearColumnIncludeLeadElement(Matrix, cellRow, cellColumn, nRow, nColumn):\n",
    "    for i in range(cellRow + 1, nRow):\n",
    "        rate = Matrix[i][cellColumn] / Matrix[cellRow][cellColumn]\n",
    "        for j in range(cellColumn, nColumn):\n",
    "            Matrix[i][j] -= rate * Matrix[cellRow][j]\n",
    "    \n",
    "    for i in range(cellRow):\n",
    "        rate = Matrix[i][cellColumn] / Matrix[cellRow][cellColumn]\n",
    "        for j in range(cellColumn, nColumn):\n",
    "            Matrix[i][j] -= rate * Matrix[cellRow][j]\n",
    "            \n",
    "# Using for inverse fomulation\n",
    "def clearColumnOf2MatrixsIncludeLeadElement(Matrix, Augmented_Inverse, cellRow, cellColumn, nRow, nColumn):\n",
    "    for i in range(cellRow + 1, nRow):\n",
    "        rate = Matrix[i][cellColumn] / Matrix[cellRow][cellColumn]\n",
    "        for j in range(cellColumn, nColumn):\n",
    "            Matrix[i][j] -= rate * Matrix[cellRow][j]\n",
    "        for j in range(nColumn):\n",
    "            Augmented_Inverse[i][j] -= rate * Augmented_Inverse[cellRow][j]\n",
    "    \n",
    "    for i in range(cellRow):\n",
    "        rate = Matrix[i][cellColumn] / Matrix[cellRow][cellColumn]\n",
    "        for j in range(cellColumn, nColumn):\n",
    "            Matrix[i][j] -= rate * Matrix[cellRow][j]\n",
    "        for j in range(nColumn):\n",
    "            Augmented_Inverse[i][j] -= rate * Augmented_Inverse[cellRow][j]"
   ]
  },
  {
   "cell_type": "code",
   "execution_count": 5,
   "id": "f49c24d6",
   "metadata": {},
   "outputs": [],
   "source": [
    "### Reducing all values in row by dividing them by the lead element in that row.\n",
    "\n",
    "def divideRowWithANumber(Row, dividend, n):\n",
    "    for i in range(n):\n",
    "        Row[i] /=  dividend"
   ]
  },
  {
   "cell_type": "code",
   "execution_count": 6,
   "id": "248c1c45",
   "metadata": {},
   "outputs": [],
   "source": [
    "### If the cell at A[cellRow][cellColumn] = 0. Finding the cell below it that different from value 0.\n",
    "\n",
    "def findLeadPositionBelowCellInColumn(Matrix, cellRow, cellColumn, nRow):\n",
    "    for i in range(cellRow + 1, nRow):\n",
    "        if Matrix[i][cellColumn] != 0:\n",
    "            return i\n",
    "    return nRow"
   ]
  },
  {
   "cell_type": "code",
   "execution_count": 7,
   "id": "54d589f0",
   "metadata": {},
   "outputs": [],
   "source": [
    "def checkIfTheMatrixHasInverse(Matrix, nRow, nColumn):\n",
    "    if nRow < nColumn:\n",
    "        return False\n",
    "    \n",
    "    for i in range(nColumn):\n",
    "        if Matrix[i][i] != 1:\n",
    "            return False\n",
    "        \n",
    "    for i in range(nColumn):\n",
    "        for j in range(nColumn):\n",
    "            if i == j:\n",
    "                continue\n",
    "            if Matrix[i][j] != 0:\n",
    "                return False\n",
    "            \n",
    "    for i in range(nColumn, nRow):\n",
    "        for j in range(nColumn):\n",
    "            if Matrix[i][j] != 0:\n",
    "                return False\n",
    "            \n",
    "    return True"
   ]
  },
  {
   "cell_type": "code",
   "execution_count": 8,
   "id": "b6974756",
   "metadata": {},
   "outputs": [],
   "source": [
    "def inverse(A):\n",
    "    Matrix = copyMatrix(A)\n",
    "    nRow = len(Matrix)\n",
    "    nColumn = len(Matrix[0])\n",
    "    \n",
    "    result_Matrix = []\n",
    "    for i in range(nRow):\n",
    "        result_Matrix.append([0] * nColumn)\n",
    "        \n",
    "    for i in range(nRow):\n",
    "        result_Matrix[i][i] = 1\n",
    "    \n",
    "    j = 0\n",
    "    for i in range(nColumn):\n",
    "        if Matrix[j][i] == 0:\n",
    "            rowSwitch = findLeadPositionBelowCellInColumn(Matrix, j, i, nRow)\n",
    "            if rowSwitch == nRow:\n",
    "                continue\n",
    "            Matrix[j], Matrix[rowSwitch] = Matrix[rowSwitch], Matrix[j]\n",
    "            result_Matrix[j], result_Matrix[rowSwitch] = result_Matrix[rowSwitch], result_Matrix[j]\n",
    "        \n",
    "        leadElement = Matrix[j][i]\n",
    "        divideRowWithANumber(Matrix[j], leadElement, nColumn)\n",
    "        divideRowWithANumber(result_Matrix[j], leadElement, nColumn)\n",
    "        clearColumnOf2MatrixsIncludeLeadElement(Matrix, result_Matrix, j, i, nRow, nColumn)\n",
    "        \n",
    "        j += 1\n",
    "        if j == nRow:\n",
    "            break\n",
    "            \n",
    "    if checkIfTheMatrixHasInverse(Matrix, nRow, nColumn) == False:\n",
    "        return 'Ma trận không khả nghịch'\n",
    "    \n",
    "    return result_Matrix"
   ]
  },
  {
   "cell_type": "code",
   "execution_count": 9,
   "id": "2dcafbee",
   "metadata": {},
   "outputs": [
    {
     "name": "stdout",
     "output_type": "stream",
     "text": [
      "[[1, 0, 0]\n",
      "[0, 1, 0]\n",
      "[0, 0, 1]]\n",
      "\n",
      "[[1.0, 0.0, 0.0]\n",
      "[0.0, 1.0, 0.0]\n",
      "[0.0, 0.0, 1.0]]\n"
     ]
    }
   ],
   "source": [
    "A = [[1, 2, -1],\n",
    "    [-2, 0, 1],\n",
    "    [1, -1, 0]]\n",
    "\n",
    "#A = [[1, 2],\n",
    "#    [2, 4]]\n",
    "\n",
    "A = [[1, 0, 0],\n",
    "    [0, 1, 0],\n",
    "    [0, 0, 1]]\n",
    "\n",
    "printMatrix(A)\n",
    "print()\n",
    "\n",
    "Result = inverse(A)\n",
    "if Result == 'Ma trận không khả nghịch':\n",
    "    print('Ma trận không khả nghịch')\n",
    "else:\n",
    "    printMatrix(Result)"
   ]
  },
  {
   "cell_type": "markdown",
   "id": "5d8242d9",
   "metadata": {},
   "source": [
    "## Algorithms\n",
    "### Gauss - Jordan\n",
    "#### Let a square matrix A with n columns and an identity matrix I with n columns.\n",
    "#### Variable checkRow is the lead element in each row, also the pivot element in column.\n",
    "  - **Step 1:** Let checkRow = 0.\n",
    "  - **Step 2:** Trace from the first column to the last column in matrix A.\n",
    "  - **Step 3:** If the column is checking that is zero column (all cell in this column value 0), pass this column and reach to the next column.\n",
    "  - **Step 4:** Otherwise, check if the first element in this column is 1. If not, let rate = [the lead element], after that divide each element in this column by the rate, also divide each element in the correspond column in matrix I and increase checkRow by 1.\n",
    "  - **Step 5:** In each column is not zero column, make all cell above and below the pivot element 0. The method:\n",
    "       -  **Step 5.1:** Let rate = (the cell X is needed making 0) / (the pivot element value)\n",
    "       -  **Step 5.2:** Subtract each cell in the row includes cell X by result from product rate by each corresponding cell in the row includes pivot element.\n",
    "       -  **Step 5.3:** Subtract each cell in the correspond row in matrix I by rate \n",
    "  - **Step 6:** Check If matrix A is identity matrix now. If this is true, return that matrix A is not an inversetable matrix. If not, return the final result of matrix I.\n",
    "  - **Step 7:** End."
   ]
  },
  {
   "cell_type": "code",
   "execution_count": null,
   "id": "65ce238e",
   "metadata": {},
   "outputs": [],
   "source": []
  }
 ],
 "metadata": {
  "kernelspec": {
   "display_name": "Python 3 (ipykernel)",
   "language": "python",
   "name": "python3"
  },
  "language_info": {
   "codemirror_mode": {
    "name": "ipython",
    "version": 3
   },
   "file_extension": ".py",
   "mimetype": "text/x-python",
   "name": "python",
   "nbconvert_exporter": "python",
   "pygments_lexer": "ipython3",
   "version": "3.10.9"
  }
 },
 "nbformat": 4,
 "nbformat_minor": 5
}
